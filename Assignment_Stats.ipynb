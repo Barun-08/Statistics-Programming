{
  "nbformat": 4,
  "nbformat_minor": 0,
  "metadata": {
    "colab": {
      "provenance": []
    },
    "kernelspec": {
      "name": "python3",
      "display_name": "Python 3"
    },
    "language_info": {
      "name": "python"
    }
  },
  "cells": [
    {
      "cell_type": "code",
      "execution_count": 1,
      "metadata": {
        "id": "fU03B-b1TAJs"
      },
      "outputs": [],
      "source": [
        "#libraries to work with\n",
        "import pandas as pd\n",
        "import numpy as np"
      ]
    },
    {
      "cell_type": "code",
      "source": [
        "# Import our file through pandas as pd\n",
        "df = pd.read_csv('IRIS.csv')\n",
        "print(df)"
      ],
      "metadata": {
        "colab": {
          "base_uri": "https://localhost:8080/"
        },
        "id": "KIhdNmWoT2n9",
        "outputId": "93e6849b-1e54-4cab-df83-4c6be8900998"
      },
      "execution_count": 2,
      "outputs": [
        {
          "output_type": "stream",
          "name": "stdout",
          "text": [
            "     sepal_length  sepal_width  petal_length  petal_width         species\n",
            "0             5.1          3.5           1.4          0.2     Iris-setosa\n",
            "1             4.9          3.0           1.4          0.2     Iris-setosa\n",
            "2             4.7          3.2           1.3          0.2     Iris-setosa\n",
            "3             4.6          3.1           1.5          0.2     Iris-setosa\n",
            "4             5.0          3.6           1.4          0.2     Iris-setosa\n",
            "..            ...          ...           ...          ...             ...\n",
            "145           6.7          3.0           5.2          2.3  Iris-virginica\n",
            "146           6.3          2.5           5.0          1.9  Iris-virginica\n",
            "147           6.5          3.0           5.2          2.0  Iris-virginica\n",
            "148           6.2          3.4           5.4          2.3  Iris-virginica\n",
            "149           5.9          3.0           5.1          1.8  Iris-virginica\n",
            "\n",
            "[150 rows x 5 columns]\n"
          ]
        }
      ]
    },
    {
      "cell_type": "code",
      "source": [
        "#Central Tendency Without directly calculating the mean, determine which sepal measurement (sepal_length or sepal_width) has a higher average by observing the dataset.\n",
        "\n",
        "stat_df=df[[\"sepal_length\",\"sepal_width\",\"petal_length\",\"petal_width\",\"species\"]]\n",
        "stat_df[\"sepal_length\"].describe()"
      ],
      "metadata": {
        "colab": {
          "base_uri": "https://localhost:8080/",
          "height": 335
        },
        "id": "ome0dOweUG4z",
        "outputId": "b23591b2-b033-4a09-ced1-beb08f0e9302"
      },
      "execution_count": 10,
      "outputs": [
        {
          "output_type": "execute_result",
          "data": {
            "text/plain": [
              "count    150.000000\n",
              "mean       5.843333\n",
              "std        0.828066\n",
              "min        4.300000\n",
              "25%        5.100000\n",
              "50%        5.800000\n",
              "75%        6.400000\n",
              "max        7.900000\n",
              "Name: sepal_length, dtype: float64"
            ],
            "text/html": [
              "<div>\n",
              "<style scoped>\n",
              "    .dataframe tbody tr th:only-of-type {\n",
              "        vertical-align: middle;\n",
              "    }\n",
              "\n",
              "    .dataframe tbody tr th {\n",
              "        vertical-align: top;\n",
              "    }\n",
              "\n",
              "    .dataframe thead th {\n",
              "        text-align: right;\n",
              "    }\n",
              "</style>\n",
              "<table border=\"1\" class=\"dataframe\">\n",
              "  <thead>\n",
              "    <tr style=\"text-align: right;\">\n",
              "      <th></th>\n",
              "      <th>sepal_length</th>\n",
              "    </tr>\n",
              "  </thead>\n",
              "  <tbody>\n",
              "    <tr>\n",
              "      <th>count</th>\n",
              "      <td>150.000000</td>\n",
              "    </tr>\n",
              "    <tr>\n",
              "      <th>mean</th>\n",
              "      <td>5.843333</td>\n",
              "    </tr>\n",
              "    <tr>\n",
              "      <th>std</th>\n",
              "      <td>0.828066</td>\n",
              "    </tr>\n",
              "    <tr>\n",
              "      <th>min</th>\n",
              "      <td>4.300000</td>\n",
              "    </tr>\n",
              "    <tr>\n",
              "      <th>25%</th>\n",
              "      <td>5.100000</td>\n",
              "    </tr>\n",
              "    <tr>\n",
              "      <th>50%</th>\n",
              "      <td>5.800000</td>\n",
              "    </tr>\n",
              "    <tr>\n",
              "      <th>75%</th>\n",
              "      <td>6.400000</td>\n",
              "    </tr>\n",
              "    <tr>\n",
              "      <th>max</th>\n",
              "      <td>7.900000</td>\n",
              "    </tr>\n",
              "  </tbody>\n",
              "</table>\n",
              "</div><br><label><b>dtype:</b> float64</label>"
            ]
          },
          "metadata": {},
          "execution_count": 10
        }
      ]
    },
    {
      "cell_type": "code",
      "source": [
        "stat_df[\"sepal_width\"].describe()"
      ],
      "metadata": {
        "colab": {
          "base_uri": "https://localhost:8080/",
          "height": 335
        },
        "id": "WOwcFkX2UVzN",
        "outputId": "545a19cd-1e2b-49bd-f860-c611b705575d"
      },
      "execution_count": 6,
      "outputs": [
        {
          "output_type": "execute_result",
          "data": {
            "text/plain": [
              "count    150.000000\n",
              "mean       3.054000\n",
              "std        0.433594\n",
              "min        2.000000\n",
              "25%        2.800000\n",
              "50%        3.000000\n",
              "75%        3.300000\n",
              "max        4.400000\n",
              "Name: sepal_width, dtype: float64"
            ],
            "text/html": [
              "<div>\n",
              "<style scoped>\n",
              "    .dataframe tbody tr th:only-of-type {\n",
              "        vertical-align: middle;\n",
              "    }\n",
              "\n",
              "    .dataframe tbody tr th {\n",
              "        vertical-align: top;\n",
              "    }\n",
              "\n",
              "    .dataframe thead th {\n",
              "        text-align: right;\n",
              "    }\n",
              "</style>\n",
              "<table border=\"1\" class=\"dataframe\">\n",
              "  <thead>\n",
              "    <tr style=\"text-align: right;\">\n",
              "      <th></th>\n",
              "      <th>sepal_width</th>\n",
              "    </tr>\n",
              "  </thead>\n",
              "  <tbody>\n",
              "    <tr>\n",
              "      <th>count</th>\n",
              "      <td>150.000000</td>\n",
              "    </tr>\n",
              "    <tr>\n",
              "      <th>mean</th>\n",
              "      <td>3.054000</td>\n",
              "    </tr>\n",
              "    <tr>\n",
              "      <th>std</th>\n",
              "      <td>0.433594</td>\n",
              "    </tr>\n",
              "    <tr>\n",
              "      <th>min</th>\n",
              "      <td>2.000000</td>\n",
              "    </tr>\n",
              "    <tr>\n",
              "      <th>25%</th>\n",
              "      <td>2.800000</td>\n",
              "    </tr>\n",
              "    <tr>\n",
              "      <th>50%</th>\n",
              "      <td>3.000000</td>\n",
              "    </tr>\n",
              "    <tr>\n",
              "      <th>75%</th>\n",
              "      <td>3.300000</td>\n",
              "    </tr>\n",
              "    <tr>\n",
              "      <th>max</th>\n",
              "      <td>4.400000</td>\n",
              "    </tr>\n",
              "  </tbody>\n",
              "</table>\n",
              "</div><br><label><b>dtype:</b> float64</label>"
            ]
          },
          "metadata": {},
          "execution_count": 6
        }
      ]
    },
    {
      "cell_type": "code",
      "source": [
        "# Conclusion: Sepal length has a higher average."
      ],
      "metadata": {
        "id": "TTDumEsJVWGF"
      },
      "execution_count": 11,
      "outputs": []
    },
    {
      "cell_type": "code",
      "source": [
        "#Dispersion Compare the variability of petal measurements by checking the difference between the ranges of petal_length and petal_width. Which feature shows more spread?\n",
        "\n",
        "range_length= stat_df[\"petal_length\"].max()-stat_df[\"petal_length\"].min()\n",
        "range_length"
      ],
      "metadata": {
        "colab": {
          "base_uri": "https://localhost:8080/"
        },
        "id": "CRSGJIDHUdU-",
        "outputId": "cad73e4d-26ed-4484-c9ab-b0d72881979c"
      },
      "execution_count": 12,
      "outputs": [
        {
          "output_type": "execute_result",
          "data": {
            "text/plain": [
              "5.9"
            ]
          },
          "metadata": {},
          "execution_count": 12
        }
      ]
    },
    {
      "cell_type": "code",
      "source": [
        "range_width= stat_df[\"petal_width\"].max()-stat_df[\"petal_width\"].min()\n",
        "range_width"
      ],
      "metadata": {
        "colab": {
          "base_uri": "https://localhost:8080/"
        },
        "id": "q8ixOzvrU-FL",
        "outputId": "a29c0bd6-00c5-45f3-9297-181494509e30"
      },
      "execution_count": 8,
      "outputs": [
        {
          "output_type": "execute_result",
          "data": {
            "text/plain": [
              "2.4"
            ]
          },
          "metadata": {},
          "execution_count": 8
        }
      ]
    },
    {
      "cell_type": "code",
      "source": [
        "# Conclusion: Petal length shows more spread."
      ],
      "metadata": {
        "id": "dTTpMGEwVBFi"
      },
      "execution_count": 9,
      "outputs": []
    },
    {
      "cell_type": "code",
      "source": [
        "#Quartiles Identify which feature, sepal_length or sepal_width, has a higher interquartile range (IQR), indicating greater variability in the middle 50% of the data.\n",
        "\n",
        "iqr_length= stat_df[\"sepal_length\"].quantile(0.75)-stat_df[\"sepal_length\"].quantile(0.25)\n",
        "iqr_length"
      ],
      "metadata": {
        "colab": {
          "base_uri": "https://localhost:8080/"
        },
        "id": "UefCGa1_VcnM",
        "outputId": "b2002a69-05de-4c34-c6a2-66180e8541e8"
      },
      "execution_count": 13,
      "outputs": [
        {
          "output_type": "execute_result",
          "data": {
            "text/plain": [
              "1.3000000000000007"
            ]
          },
          "metadata": {},
          "execution_count": 13
        }
      ]
    },
    {
      "cell_type": "code",
      "source": [
        "iqr_width= stat_df[\"sepal_width\"].quantile(0.75)-stat_df[\"sepal_width\"].quantile(0.25)\n",
        "iqr_width"
      ],
      "metadata": {
        "colab": {
          "base_uri": "https://localhost:8080/"
        },
        "id": "02nUDehnVya3",
        "outputId": "49d74a80-855b-4236-9ecb-87f1a20ebd46"
      },
      "execution_count": 14,
      "outputs": [
        {
          "output_type": "execute_result",
          "data": {
            "text/plain": [
              "0.5"
            ]
          },
          "metadata": {},
          "execution_count": 14
        }
      ]
    },
    {
      "cell_type": "code",
      "source": [
        "# Conclusion: Sepal length has a higher interquartile range (IQR)."
      ],
      "metadata": {
        "id": "FMXd8FeiV1S4"
      },
      "execution_count": 15,
      "outputs": []
    },
    {
      "cell_type": "code",
      "source": [
        "#Standard Deviation Insight Based on the computed standard deviations of sepal_length and sepal_width, determine which attribute exhibits more variability and discuss what this indicates about the consistency of the two features.\n",
        "\n",
        "std_length= stat_df[\"sepal_length\"].std()\n",
        "std_length"
      ],
      "metadata": {
        "colab": {
          "base_uri": "https://localhost:8080/"
        },
        "id": "V7ZVXHD1V6RJ",
        "outputId": "4d326d51-8d57-4579-e18c-57ecb9afdc48"
      },
      "execution_count": 17,
      "outputs": [
        {
          "output_type": "execute_result",
          "data": {
            "text/plain": [
              "0.8280661279778629"
            ]
          },
          "metadata": {},
          "execution_count": 17
        }
      ]
    },
    {
      "cell_type": "code",
      "source": [
        "std_width= stat_df[\"sepal_width\"].std()\n",
        "std_width"
      ],
      "metadata": {
        "colab": {
          "base_uri": "https://localhost:8080/"
        },
        "id": "70gRNaFWWDcC",
        "outputId": "e5c3aa41-e149-45cc-951a-5a81a4fb717a"
      },
      "execution_count": 18,
      "outputs": [
        {
          "output_type": "execute_result",
          "data": {
            "text/plain": [
              "0.4335943113621737"
            ]
          },
          "metadata": {},
          "execution_count": 18
        }
      ]
    },
    {
      "cell_type": "code",
      "source": [
        "# Conclusion: Sepal length exhibits more variability."
      ],
      "metadata": {
        "id": "73prKCffWL9T"
      },
      "execution_count": 19,
      "outputs": []
    },
    {
      "cell_type": "code",
      "source": [
        "#Shape of Distribution Without plotting, assess whether the petal_length distribution is skewed. Use a descriptive statistic that measures skewness and infer the distribution shape.\n",
        "\n",
        "x= 3*(stat_df[\"petal_length\"].mean()-stat_df[\"petal_length\"].median())/stat_df[\"petal_length\"].std()\n",
        "print(x)"
      ],
      "metadata": {
        "colab": {
          "base_uri": "https://localhost:8080/"
        },
        "id": "onUuxm67WQGL",
        "outputId": "fcdc81a2-6367-4fcf-8e85-28c2b9fc8d8d"
      },
      "execution_count": 20,
      "outputs": [
        {
          "output_type": "stream",
          "name": "stdout",
          "text": [
            "-1.0054293069494162\n"
          ]
        }
      ]
    },
    {
      "cell_type": "code",
      "source": [
        "# Conclusion: Petal length distribution is slightly skewed."
      ],
      "metadata": {
        "id": "dy57NyZ0Wfbl"
      },
      "execution_count": 22,
      "outputs": []
    },
    {
      "cell_type": "code",
      "source": [
        "#Symmetry For which attribute, sepal_length or sepal_width, is the skewness closer to zero? What does this imply about the symmetry of its distribution?\n",
        "\n",
        "skew_length= stat_df[\"sepal_length\"].skew()\n",
        "skew_length"
      ],
      "metadata": {
        "colab": {
          "base_uri": "https://localhost:8080/"
        },
        "id": "1NomCtSLWoV-",
        "outputId": "2150d479-5164-476f-9ebc-73ebbfbea28d"
      },
      "execution_count": 24,
      "outputs": [
        {
          "output_type": "execute_result",
          "data": {
            "text/plain": [
              "0.3149109566369728"
            ]
          },
          "metadata": {},
          "execution_count": 24
        }
      ]
    },
    {
      "cell_type": "code",
      "source": [
        "skew_width= stat_df[\"sepal_width\"].skew()\n",
        "skew_width"
      ],
      "metadata": {
        "colab": {
          "base_uri": "https://localhost:8080/"
        },
        "id": "VEfRA11LW3zA",
        "outputId": "9917aff4-f95b-46c0-e249-db1a074306e5"
      },
      "execution_count": 25,
      "outputs": [
        {
          "output_type": "execute_result",
          "data": {
            "text/plain": [
              "0.3340526621720866"
            ]
          },
          "metadata": {},
          "execution_count": 25
        }
      ]
    },
    {
      "cell_type": "code",
      "source": [
        "# Conclusion: Sepal width distribution is more symmetric."
      ],
      "metadata": {
        "id": "eFSH7MxIXDTo"
      },
      "execution_count": 26,
      "outputs": []
    },
    {
      "cell_type": "code",
      "source": [
        "#Coefficient of Variation Calculate the coefficient of variation (CV) for sepal_length and petal_length. Which feature has greater relative variability, and what does this tell you about the dataset?\n",
        "\n",
        "cv_sepal= (stat_df[\"sepal_length\"].std()/stat_df[\"sepal_length\"].mean()) *100\n",
        "cv_sepal"
      ],
      "metadata": {
        "colab": {
          "base_uri": "https://localhost:8080/"
        },
        "id": "Ar1x4JZ-XH2x",
        "outputId": "232ac72c-06e0-4dfb-8197-68fddd047319"
      },
      "execution_count": 28,
      "outputs": [
        {
          "output_type": "execute_result",
          "data": {
            "text/plain": [
              "14.171125977944033"
            ]
          },
          "metadata": {},
          "execution_count": 28
        }
      ]
    },
    {
      "cell_type": "code",
      "source": [
        "cv_petal= (stat_df[\"petal_length\"].std()/stat_df[\"petal_length\"].mean()) *100\n",
        "cv_petal"
      ],
      "metadata": {
        "colab": {
          "base_uri": "https://localhost:8080/"
        },
        "id": "aQYPfrHSXOOx",
        "outputId": "addd3083-915a-41c7-bd5e-8391ce49db5a"
      },
      "execution_count": 29,
      "outputs": [
        {
          "output_type": "execute_result",
          "data": {
            "text/plain": [
              "46.942721353820374"
            ]
          },
          "metadata": {},
          "execution_count": 29
        }
      ]
    },
    {
      "cell_type": "code",
      "source": [
        "# Conclusion: Petal length has greater relative variability."
      ],
      "metadata": {
        "id": "3DPhKnXBXY6E"
      },
      "execution_count": 30,
      "outputs": []
    },
    {
      "cell_type": "code",
      "source": [
        "#Outlier Detection using IQR Identify the outliers in the sepal_length feature using the IQR method (define outliers as values that fall below Q1 - 1.5 * IQR or above Q3 + 1.5 * IQR). How many outliers are present?\n",
        "\n",
        "q1= stat_df[\"sepal_length\"].quantile(0.75)\n",
        "q1"
      ],
      "metadata": {
        "colab": {
          "base_uri": "https://localhost:8080/"
        },
        "id": "xw1F9z20XcVL",
        "outputId": "28d9dd0b-4030-4b8d-f712-84fd0aa1c66a"
      },
      "execution_count": 31,
      "outputs": [
        {
          "output_type": "execute_result",
          "data": {
            "text/plain": [
              "6.4"
            ]
          },
          "metadata": {},
          "execution_count": 31
        }
      ]
    },
    {
      "cell_type": "code",
      "source": [
        "q2 =stat_df[\"sepal_length\"].quantile(0.25)\n",
        "q2"
      ],
      "metadata": {
        "colab": {
          "base_uri": "https://localhost:8080/"
        },
        "id": "z8thElgiXmnl",
        "outputId": "8e2ab2a7-03cb-4a77-c1ba-de7fb7e21e46"
      },
      "execution_count": 32,
      "outputs": [
        {
          "output_type": "execute_result",
          "data": {
            "text/plain": [
              "5.1"
            ]
          },
          "metadata": {},
          "execution_count": 32
        }
      ]
    },
    {
      "cell_type": "code",
      "source": [
        "iqr=q1-q2\n",
        "iqr"
      ],
      "metadata": {
        "colab": {
          "base_uri": "https://localhost:8080/"
        },
        "id": "QDD30jjeXoul",
        "outputId": "c935bb47-b6b3-4143-e538-6a6ce03d254d"
      },
      "execution_count": 33,
      "outputs": [
        {
          "output_type": "execute_result",
          "data": {
            "text/plain": [
              "1.3000000000000007"
            ]
          },
          "metadata": {},
          "execution_count": 33
        }
      ]
    },
    {
      "cell_type": "code",
      "source": [
        "lower_length= q2-1.5*iqr\n",
        "lower_length"
      ],
      "metadata": {
        "colab": {
          "base_uri": "https://localhost:8080/"
        },
        "id": "vRCcXZZQXqZ9",
        "outputId": "38c6a3c6-379f-41c2-cff4-80ae8463b104"
      },
      "execution_count": 34,
      "outputs": [
        {
          "output_type": "execute_result",
          "data": {
            "text/plain": [
              "3.1499999999999986"
            ]
          },
          "metadata": {},
          "execution_count": 34
        }
      ]
    },
    {
      "cell_type": "code",
      "source": [
        "upper_length= q1+1.5*iqr\n",
        "upper_length"
      ],
      "metadata": {
        "colab": {
          "base_uri": "https://localhost:8080/"
        },
        "id": "noJtvWekXr-d",
        "outputId": "6d3ee28c-de9f-4692-f3f7-a9cead35c957"
      },
      "execution_count": 35,
      "outputs": [
        {
          "output_type": "execute_result",
          "data": {
            "text/plain": [
              "8.350000000000001"
            ]
          },
          "metadata": {},
          "execution_count": 35
        }
      ]
    },
    {
      "cell_type": "code",
      "source": [
        "outliers_length= stat_df[(stat_df['sepal_length']>upper_length) |\n",
        "                  (stat_df['sepal_length']<lower_length)]\n",
        "print( outliers_length)"
      ],
      "metadata": {
        "colab": {
          "base_uri": "https://localhost:8080/"
        },
        "id": "bK8GuTbjXuDV",
        "outputId": "be9c68fe-8261-4df3-ca84-620526d9cc62"
      },
      "execution_count": 36,
      "outputs": [
        {
          "output_type": "stream",
          "name": "stdout",
          "text": [
            "Empty DataFrame\n",
            "Columns: [sepal_length, sepal_width, petal_length, petal_width, species]\n",
            "Index: []\n"
          ]
        }
      ]
    },
    {
      "cell_type": "code",
      "source": [
        "# Conclusion: There are 0 outliers in the sepal length feature."
      ],
      "metadata": {
        "id": "jud41F6uXwYd"
      },
      "execution_count": 37,
      "outputs": []
    },
    {
      "cell_type": "code",
      "source": [],
      "metadata": {
        "id": "li9RRLHlYNGJ"
      },
      "execution_count": null,
      "outputs": []
    }
  ]
}